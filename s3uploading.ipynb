{
 "cells": [
  {
   "cell_type": "code",
   "execution_count": 9,
   "metadata": {},
   "outputs": [
    {
     "name": "stdout",
     "output_type": "stream",
     "text": [
      "us-east-1\n"
     ]
    }
   ],
   "source": [
    "import boto3\n",
    "import os\n",
    "\n",
    "bucket_name = \"likhits-news-summarizer\"\n",
    "file_path = \"code.tar.gz\"\n",
    "s3_key = \"codetar/code.tar.gz\" \n",
    "region = boto3.session.Session().region_name\n",
    "\n",
    "print(region)\n",
    "s3 = boto3.client(\"s3\")"
   ]
  },
  {
   "cell_type": "code",
   "execution_count": 12,
   "metadata": {},
   "outputs": [
    {
     "name": "stdout",
     "output_type": "stream",
     "text": [
      "Uploaded code.tar.gz to s3://likhits-news-summarizer/codetar/code.tar.gz\n"
     ]
    }
   ],
   "source": [
    "try:\n",
    "    s3.upload_file(file_path, bucket_name, s3_key)\n",
    "    print(f\"Uploaded {file_path} to s3://{bucket_name}/{s3_key}\")\n",
    "except Exception as e:\n",
    "    print(f\"Upload failed: {e}\")"
   ]
  }
 ],
 "metadata": {
  "kernelspec": {
   "display_name": "Python 3",
   "language": "python",
   "name": "python3"
  },
  "language_info": {
   "codemirror_mode": {
    "name": "ipython",
    "version": 3
   },
   "file_extension": ".py",
   "mimetype": "text/x-python",
   "name": "python",
   "nbconvert_exporter": "python",
   "pygments_lexer": "ipython3",
   "version": "3.10.13"
  },
  "orig_nbformat": 4
 },
 "nbformat": 4,
 "nbformat_minor": 2
}
