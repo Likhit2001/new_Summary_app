{
 "cells": [
  {
   "cell_type": "code",
   "execution_count": 3,
   "metadata": {},
   "outputs": [
    {
     "name": "stdout",
     "output_type": "stream",
     "text": [
      "200\n",
      "{\"statusCode\": 200, \"body\": \"{\\\"summary\\\": \\\"this sentence is often used to test fonts and keyboards . the sentence is usually used for font tests and keyboard tests . if you have a fox, click here for more information .\\\"}\"}\n"
     ]
    }
   ],
   "source": [
    "import requests\n",
    "\n",
    "resp = requests.get(\n",
    "    \"https://uty39y2zz2.execute-api.us-east-1.amazonaws.com/stagev1\",\n",
    "    params={\n",
    "        \"query\": \"summarize: The quick brown fox jumps over the lazy dog. This sentence is often used to test fonts and keyboards.\"\n",
    "    }\n",
    ")\n",
    "\n",
    "print(resp.status_code)\n",
    "print(resp.text)"
   ]
  },
  {
   "cell_type": "code",
   "execution_count": null,
   "metadata": {},
   "outputs": [],
   "source": []
  }
 ],
 "metadata": {
  "kernelspec": {
   "display_name": "Python 3",
   "language": "python",
   "name": "python3"
  },
  "language_info": {
   "codemirror_mode": {
    "name": "ipython",
    "version": 3
   },
   "file_extension": ".py",
   "mimetype": "text/x-python",
   "name": "python",
   "nbconvert_exporter": "python",
   "pygments_lexer": "ipython3",
   "version": "3.10.13"
  },
  "orig_nbformat": 4
 },
 "nbformat": 4,
 "nbformat_minor": 2
}
